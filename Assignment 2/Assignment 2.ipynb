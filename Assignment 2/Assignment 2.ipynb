{
 "cells": [
  {
   "cell_type": "code",
   "execution_count": 9,
   "metadata": {},
   "outputs": [
    {
     "name": "stdout",
     "output_type": "stream",
     "text": [
      "MSE: 2.982056979867998\n"
     ]
    }
   ],
   "source": [
    "\"\"\"\n",
    "Naive Bayes is a simple yet powerful probabilistic classifier based on Bayes' Theorem, with the assumption of \n",
    "independence between features. In the context of rating prediction, it treats the problem as a classification \n",
    "task. However, it's not commonly used for rating predictions due to its assumption of feature independence and \n",
    "its typical application in classification rather than regression tasks.\n",
    "\"\"\"\n",
    "\n",
    "import pandas as pd\n",
    "from sklearn.model_selection import train_test_split\n",
    "from sklearn.naive_bayes import GaussianNB\n",
    "from sklearn.metrics import mean_squared_error\n",
    "import numpy as np\n",
    "\n",
    "# Function to load and preprocess data\n",
    "def load_and_preprocess_data(train_path, test_path):\n",
    "    # Load data\n",
    "    train_data = pd.read_csv(train_path)\n",
    "    test_data = pd.read_csv(test_path)\n",
    "\n",
    "    return train_data, test_data\n",
    "\n",
    "# Custom encoding for handling unseen items/users\n",
    "def custom_encode(train_data, test_data, columns):\n",
    "    for col in columns:\n",
    "        unique_values = set(train_data[col].unique())\n",
    "        test_data[col] = test_data[col].apply(lambda x: x if x in unique_values else None)\n",
    "    return train_data, test_data\n",
    "\n",
    "# Load your data\n",
    "train_data, test_data = load_and_preprocess_data('train_data.csv', 'test_data.csv')\n",
    "\n",
    "# Encode 'item_id' and 'user_id' with custom encoding\n",
    "train_data, test_data = custom_encode(train_data, test_data, ['item_id', 'user_id'])\n",
    "\n",
    "# Handling missing values after encoding\n",
    "train_data.fillna(-1, inplace=True)\n",
    "test_data.fillna(-1, inplace=True)\n",
    "\n",
    "# Define features and target variable\n",
    "features = ['item_id', 'user_id']\n",
    "target = 'rating'\n",
    "\n",
    "# Split the training data for model evaluation\n",
    "X_train, y_train = train_data[features],train_data[target]\n",
    "X_test, y_test = test_data[features],test_data[target]\n",
    "\n",
    "# Train Naive Bayes model\n",
    "model = GaussianNB()\n",
    "model.fit(X_train, y_train)\n",
    "\n",
    "# Predict on validation set\n",
    "predictions = model.predict(X_test)\n",
    "\n",
    "# Evaluate the model\n",
    "mse = mean_squared_error(y_test, predictions)\n",
    "print(f\"MSE: {mse}\")"
   ]
  },
  {
   "cell_type": "code",
   "execution_count": 10,
   "metadata": {},
   "outputs": [
    {
     "name": "stdout",
     "output_type": "stream",
     "text": [
      "MSE: 2.0224027639463267\n"
     ]
    }
   ],
   "source": [
    "\"\"\"\n",
    "SVD is a matrix factorization technique commonly used in collaborative filtering for recommendation systems. It \n",
    "decomposes the user-item rating matrix into lower-dimensional matrices, capturing latent factors representing \n",
    "user and item interactions. SVD is effective for capturing complex patterns but requires tuning parameters like \n",
    "the number of latent factors.\n",
    "\"\"\"\n",
    "\n",
    "from surprise import Dataset, Reader, SVD, accuracy\n",
    "from surprise.model_selection import train_test_split, PredefinedKFold\n",
    "import pandas as pd\n",
    "\n",
    "# Load your data\n",
    "train_data, test_data = load_and_preprocess_data('train_data.csv', 'test_data.csv')\n",
    "train_data['rating'] /= 2\n",
    "reader = Reader(rating_scale=(1, 5))  # rating scaled to 1 to 5\n",
    "\n",
    "# Load data into Surprise's format\n",
    "trainset = Dataset.load_from_df(train_data[['user_id', 'item_id', 'rating']], reader).build_full_trainset()\n",
    "\n",
    "# Train SVD model\n",
    "model = SVD()\n",
    "model.fit(trainset)\n",
    "\n",
    "# Prepare test set for prediction\n",
    "testset = list(zip(test_data['user_id'], test_data['item_id'], [None]*len(test_data)))\n",
    "predictions = model.test(testset)\n",
    "\n",
    "# Extract real and predicted ratings\n",
    "test_data['predicted_rating'] = [pred.est*2 for pred in predictions]\n",
    "\n",
    "# Calculate MSE between actual and predicted ratings\n",
    "mse = mean_squared_error(test_data['rating'], test_data['predicted_rating'])\n",
    "print(f\"MSE: {mse}\")"
   ]
  },
  {
   "cell_type": "code",
   "execution_count": 11,
   "metadata": {},
   "outputs": [
    {
     "name": "stdout",
     "output_type": "stream",
     "text": [
      "MSE: 2.0141989075159734\n"
     ]
    }
   ],
   "source": [
    "\"\"\"\n",
    "SVD++ is an enhancement of SVD that considers implicit feedback (the fact that a user rated an item, regardless \n",
    "of the rating value). It adds additional parameters to capture this implicit feedback, often leading to improved\n",
    "accuracy over basic SVD, especially in datasets with a lot of implicit user feedback.\n",
    "\"\"\"\n",
    "\n",
    "from surprise import Dataset, Reader, SVDpp, accuracy\n",
    "import pandas as pd\n",
    "\n",
    "# Load your data\n",
    "train_data, test_data = load_and_preprocess_data('train_data.csv', 'test_data.csv')\n",
    "train_data['rating'] /= 2\n",
    "reader = Reader(rating_scale=(1, 5))  # rating scaled to 1 to 5\n",
    "\n",
    "# Load data into Surprise's format\n",
    "trainset = Dataset.load_from_df(train_data[['user_id', 'item_id', 'rating']], reader).build_full_trainset()\n",
    "\n",
    "# Train SVD++ model\n",
    "model = SVDpp()\n",
    "model.fit(trainset)\n",
    "\n",
    "# Prepare test set for prediction\n",
    "testset = list(zip(test_data['user_id'], test_data['item_id'], [None]*len(test_data)))\n",
    "predictions = model.test(testset)\n",
    "\n",
    "# Extract real and predicted ratings\n",
    "test_data['predicted_rating'] = [pred.est*2 for pred in predictions]\n",
    "\n",
    "# Calculate MSE between actual and predicted ratings\n",
    "mse = mean_squared_error(test_data['rating'], test_data['predicted_rating'])\n",
    "print(f\"MSE: {mse}\")"
   ]
  },
  {
   "cell_type": "code",
   "execution_count": 12,
   "metadata": {},
   "outputs": [
    {
     "name": "stdout",
     "output_type": "stream",
     "text": [
      "Computing the cosine similarity matrix...\n",
      "Done computing similarity matrix.\n",
      "MSE: 2.31007537764338\n"
     ]
    }
   ],
   "source": [
    "\"\"\"\n",
    "K-Nearest Neighbors with cosine similarity is a collaborative filtering technique that calculates similarity \n",
    "between items or users based on their rating patterns. The cosine similarity measure is used to find 'neighbors',\n",
    "either items or users that are similar. KNN with Means, a variant, adjusts for the mean rating of each user or \n",
    "item, potentially improving prediction accuracy.\n",
    "\"\"\"\n",
    "\n",
    "from surprise import Dataset, Reader, KNNWithMeans, accuracy\n",
    "from surprise.model_selection import train_test_split\n",
    "import pandas as pd\n",
    "\n",
    "# Load your data\n",
    "train_data, test_data = load_and_preprocess_data('train_data_2.csv', 'test_data.csv')\n",
    "reader = Reader(rating_scale=(1, 5))  # rating scaled to 0 to 10\n",
    "\n",
    "# Load data into Surprise's format\n",
    "trainset = Dataset.load_from_df(train_data[['user_id', 'item_id', 'rating']], reader).build_full_trainset()\n",
    "\n",
    "# Train KNNWithMeans model\n",
    "sim_options = {\n",
    "    'name': 'cosine',\n",
    "    'user_based': False  # Compute similarities between items\n",
    "}\n",
    "model = KNNWithMeans(sim_options=sim_options)\n",
    "model.fit(trainset)\n",
    "\n",
    "# Prepare the test set for prediction\n",
    "testset = list(zip(test_data['user_id'], test_data['item_id'], test_data['rating']))\n",
    "\n",
    "# Predict ratings\n",
    "predictions = model.test(testset)\n",
    "\n",
    "# Round the predicted ratings to the nearest integer\n",
    "test_data['predicted_rating'] = [pred.est*2 for pred in predictions]\n",
    "\n",
    "# Calculate MSE between actual and predicted ratings\n",
    "mse = mean_squared_error(test_data['rating'], test_data['predicted_rating'])\n",
    "print(f\"MSE: {mse}\")"
   ]
  },
  {
   "cell_type": "code",
   "execution_count": 13,
   "metadata": {},
   "outputs": [
    {
     "name": "stdout",
     "output_type": "stream",
     "text": [
      "MSE: 3.3296373055775326\n"
     ]
    }
   ],
   "source": [
    "\"\"\"\n",
    "NMF is another matrix factorization technique that factorizes the user-item matrix into two non-negative matrices.\n",
    "It's particularly effective in scenarios requiring non-negative data representations, such as rating predictions. \n",
    "NMF can uncover latent features in user-item interactions, but like SVD, it needs careful tuning of hyperparameters \n",
    "such as the number of factors.\n",
    "\"\"\"\n",
    "\n",
    "from surprise import Dataset, Reader, NMF, accuracy\n",
    "import pandas as pd\n",
    "\n",
    "# Load your data\n",
    "train_data, test_data = load_and_preprocess_data('train_data_2.csv', 'test_data.csv')\n",
    "reader = Reader(rating_scale=(1, 5))  # rating scaled to 1 to 5\n",
    "\n",
    "# Load data into Surprise's format\n",
    "trainset = Dataset.load_from_df(train_data[['user_id', 'item_id', 'rating']], reader).build_full_trainset()\n",
    "\n",
    "# Train NMF model\n",
    "model = NMF()\n",
    "model.fit(trainset)\n",
    "\n",
    "# Prepare the test set for prediction\n",
    "testset = list(zip(test_data['user_id'], test_data['item_id'], test_data['rating']))\n",
    "\n",
    "# Predict ratings\n",
    "predictions = model.test(testset)\n",
    "\n",
    "# Round the predicted ratings to the nearest integer\n",
    "test_data['predicted_rating'] = [pred.est*2 for pred in predictions]\n",
    "\n",
    "# Calculate RMSE between actual and predicted ratings\n",
    "mse = mean_squared_error(test_data['rating'], test_data['predicted_rating'])\n",
    "print(f\"MSE: {mse}\")"
   ]
  },
  {
   "cell_type": "code",
   "execution_count": null,
   "metadata": {},
   "outputs": [],
   "source": []
  }
 ],
 "metadata": {
  "kernelspec": {
   "display_name": "Python 3 (ipykernel)",
   "language": "python",
   "name": "python3"
  },
  "language_info": {
   "codemirror_mode": {
    "name": "ipython",
    "version": 3
   },
   "file_extension": ".py",
   "mimetype": "text/x-python",
   "name": "python",
   "nbconvert_exporter": "python",
   "pygments_lexer": "ipython3",
   "version": "3.9.13"
  }
 },
 "nbformat": 4,
 "nbformat_minor": 2
}
