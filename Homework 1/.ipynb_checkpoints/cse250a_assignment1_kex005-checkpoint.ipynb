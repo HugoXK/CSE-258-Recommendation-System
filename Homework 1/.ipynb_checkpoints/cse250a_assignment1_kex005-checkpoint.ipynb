{
 "cells": [
  {
   "cell_type": "code",
   "execution_count": null,
   "id": "e17bf510",
   "metadata": {},
   "outputs": [],
   "source": [
    "# Read the word counts from the file\n",
    "word_counts = {}\n",
    "total_count = 0\n",
    "\n",
    "with open('hw1_word_counts_05.txt', 'r') as file:\n",
    "    for line in file:\n",
    "        word, count = line.strip().split('\\t')\n",
    "        word_counts[word] = int(count)\n",
    "        total_count += int(count)\n",
    "\n",
    "# Calculate prior probabilities\n",
    "prior_probabilities = {word: count / total_count for word, count in word_counts.items()}\n",
    "\n",
    "# Sort the words by their counts in descending order\n",
    "most_frequent_words = sorted(prior_probabilities, key=prior_probabilities.get, reverse=True)[:15]\n",
    "\n",
    "# Sort the words by their counts in ascending order\n",
    "least_frequent_words = sorted(prior_probabilities, key=prior_probabilities.get)[:14]\n",
    "\n",
    "# Print the most frequent and least frequent words\n",
    "print(\"Most frequent 5-letter words:\")\n",
    "for word in most_frequent_words:\n",
    "    print(f\"{word}: {prior_probabilities[word]:.6f}\")\n",
    "\n",
    "print(\"\\nLeast frequent 5-letter words:\")\n",
    "for word in least_frequent_words:\n",
    "    print(f\"{word}: {prior_probabilities[word]:.6f}\")"
   ]
  }
 ],
 "metadata": {
  "kernelspec": {
   "display_name": "Python 3 (ipykernel)",
   "language": "python",
   "name": "python3"
  },
  "language_info": {
   "codemirror_mode": {
    "name": "ipython",
    "version": 3
   },
   "file_extension": ".py",
   "mimetype": "text/x-python",
   "name": "python",
   "nbconvert_exporter": "python",
   "pygments_lexer": "ipython3",
   "version": "3.9.13"
  }
 },
 "nbformat": 4,
 "nbformat_minor": 5
}
